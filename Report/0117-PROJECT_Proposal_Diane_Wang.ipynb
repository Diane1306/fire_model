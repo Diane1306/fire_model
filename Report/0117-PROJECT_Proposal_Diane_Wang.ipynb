{
 "cells": [
  {
   "cell_type": "markdown",
   "metadata": {},
   "source": [
    "# <center>  Simulating 2-D Wildland Fire Behavior </center>\n",
    "\n",
    "<center>By Diane Wang</center>"
   ]
  },
  {
   "cell_type": "markdown",
   "metadata": {},
   "source": [
    "<img src=\"https://besthqwallpapers.com/Uploads/5-10-2017/22805/thumb2-dragon-warriors-fire-battle-art.jpg\" width=\"80%\">\n",
    "<p style=\"text-align: right;\">Image from: https://besthqwallpapers.com/Uploads/5-10-2017/22805/thumb2-dragon-warriors-fire-battle-art.jpg</p>\n",
    "\n"
   ]
  },
  {
   "cell_type": "markdown",
   "metadata": {},
   "source": [
    "---\n",
    "# Overview\n",
    "\n",
    "\n",
    "Wildland ﬁre is prevalent in western United States and Canada and currently nearly whole Australia. Therefore, for the savety of firefighters and the preservation of forest resources, it is imperative to predict wildland fire behavior accurately. When an unexpected wildland fires occurs, knowing the fire size and shape could help the management staff to  assess the impact on land resources and then dispatch the suppression forces(Anderson 1983). \n",
    "\n",
    "Numerous models, hitherto, have been developed for fire behavior prediction and thus providing practical tools for ﬁreﬁghting resource managers. In the late 1980s and early 1990s, advanced technologies have sparked a fair amount of fires behavior simulations (Beer 1990b; Green et al. 1990; French 1992; Coleman and Sullivan 1996). Generally, two main approaches to representing fire behaviors have been implemented in several simulation models. The first one is considering the fire as a set of continuous but independent cells that spreads in the growth of number, which is described as a raster implementation. The second one holds the view that the fire perimeter is a closed curve of linked points, which is described as a vector implementation (Sullivan 2009). Also, two main approaches to representing the propagation of the fire with some forms of expansion algorithm are used in these models. The first one expands the perimeter based on a direct-contact or near-neighbour proximity (Rothermel 1972). The second one is based on Huygens’wavelet principle in which each point on the perimeter becomes the source of the interval of fire spread (Anderson 1982). \n",
    "\n",
    "Rothermel's (1972) mathematical model calculates ﬁre spread rates toward all neighboring cells to predict how far a fire would travel in a given situation and Anderson (1982) discussed methods of predicting wind-driven wildland fire sizes and shapes, using an ellipse (figure 1) to define the fire shapes with the long axis aligned in the wind direction. DEVS-FIRE, constructed and described by the Discrete Event System Speciﬁcation (Zeigler et al. 2000) will be the focus of this study. It implemented a raster-based ﬁre representation to divide the ﬁre space into contiguous cells and proximity propagation algorithm to describe fire expansion. \n",
    "\n",
    "Besides the simulation of the fire spread, fire-atmosphere interactions should be also accounted for to predict fire behavior more accurately. CAWFE (Clark et al. 2004) and WRF-FIRE (Mandel et al. 2011) treat fire-atmosphere feedbacks in different ways. In our study, the Advanced Regional Prediction System (ARPS) model is used. Fire–atmosphere feedbacks are represented by transferring heat fluxes from DEVS-FIRE to ARPS and transferring the resulting changes in near-surface wind from ARPS to DEVS-FIRE (Dahl 2015). \n",
    "\n",
    "<img src=\"https://www.publish.csiro.au/temp/WF14047_F3.gif\" width=\"40%\">\n",
    "<p style=\"text-align: center;\">Figure 1</p>\n",
    "\n",
    "\n",
    "### Reference\n",
    "- Anderson DH, Catchpole EA, de Mestre NJ, ParkesT (1982) Modelling the spread of grass fires. Journal of Australian Mathematics Society B 23, 451–466. doi:10.1017/S0334270000000394\n",
    "- Anderson, Hal E. 1983. Predicting wind-driven wild land fire size and shape. Research Paper INT-RP-305. Ogden, UT: USDA Forest Service, Intermountain Forest and Range Experiment Station. 26 p.\n",
    "- Beer T (1990b) The Australian National Bushfire Model Project. Mathematical and Computer Modelling 13(12), 49–56. doi:10.1016/08957177(90)90098-8 \n",
    "- Clark TL, Coen JL, Latham D (2004) Description of a coupled atmosphere–ﬁre model. Int J Wildland Fire 13:49–63 \n",
    "- Coleman JR, Sullivan AL (1996) A real-time computer application for the prediction of fire spread across the Australian landscape. Simulation 67(4), 230–240. doi:10.1177/003754979606700402\n",
    "- Dahl, N., Xue, H., Hu, X. et al. (2015) Coupled ﬁre–atmosphere modeling of wildland ﬁre spread using DEVS-FIRE and ARPS. Nat Hazards 77:1013–1035. https://doi.org/10.1007/s11069-015-1640-y\n",
    "- French I (1992) Visualisation techniques for the computer simulation of bush fires in two dimensions. MSc thesis, University of New South Wales, Australian Defence ForceAcademy, Canberra. \n",
    "- Green DG, Tridgell A, Gill AM (1990) Interactive simulation of bushfires in heterogeneous fuels. Mathematical and Computer Modelling 13(12), 57–66. doi:10.1016/0895-7177(90)90099-9 \n",
    "- Mandel J, Beezley JD, Kochanski AK (2011) Coupled atmosphere-wildland ﬁre modeling with WRF 3.3 and SFIRE 2011. Geosci Model Dev 4(3):591–610 \n",
    "- Rothermel RC (1972) A mathematical model for predicting fire spread in wildland fuels. USDA Forest Service, Intermountain Forest and Range Experimental Station, Research Paper INT-115. (Odgen, UT)\n",
    "- Sullivan AL (2009b) Wildland surface fire spread modelling,1990–2007.2: Empirical and quasi-empirical models. International Journal of Wildland Fire 18, 369–386. doi:10.1071/WF06142 \n",
    "- Zeigler BP, Kim TG, Praehofer H (2000) Theory of modeling and simulation. Academic Press, Orlando "
   ]
  },
  {
   "cell_type": "markdown",
   "metadata": {},
   "source": [
    "---\n",
    "# Program Description\n",
    "\n",
    "\n",
    "DEVS-FIRE models the ﬁre area as a set of rectangular cells. Each cell contains the information about fuel types, terrains, and weather conditions according to the spatial geographic information system (GIS) data and weather data. However, these information would be assume to be spatially constant within each cell (Dahl 2015). DEVS-FIRE model has been written in Java. In this project, I'll start to describe fire behavior with some easy assumptions. First, the fire would definitely spread in a circle without any external forces. Second, I'll try to add wind condition to it step by step, contant wind and variable wind (direction and speed), which makes the fire shape become an ellipse and then non-geometric shape. Then I'll try to consider fuel condition, resulting in a turbulent fire shape. After these basic simulations, I'll try to understand the DEVS-FIRE Java Code and maybe translat it into Python. And if possible, writing the interface between this DEVS-FIRE model and the ARPS model in FORTRAN to account for coupled ﬁre–atmosphere feedbacks could be expected, which could be a future job as well. DEVS-FIRE code is available at http://35.12.130.103/study/2019-gcc-g77-java-test/."
   ]
  },
  {
   "cell_type": "markdown",
   "metadata": {},
   "source": [
    "---\n",
    "# Project Goals and Timeline\n",
    "\n",
    "\n",
    "- 1/17/2020 - Finish Proposal \n",
    "- 1/31/2020 - Finish Project git repository and structure\n",
    "- 2/14/2020 - Finish fire spread simulation with constant wind and variable wind\n",
    "- 2/28/2020 - Fire simulation with basic fuel condition\n",
    "- 3/1/2020 - Understanding DEVS-FIRE model code\n",
    "- 3/20/2020 - Translating DEVS-FIRE Java Code into Python and maybe improve it\n",
    "- 4/3/2020 - improve algorithem performances\n",
    "- 4/20/2020 - Summerize Final Project\n",
    "\n",
    "\n"
   ]
  },
  {
   "cell_type": "markdown",
   "metadata": {},
   "source": [
    "---\n",
    "# Anticipating Challenges  \n",
    " \n",
    "- information/skills \n",
    "    - Stochastic Partial Differential Equations in Turbulence Related Problems or maybe some PDE related applications\n",
    "    - Different types of computational models\n",
    "    - Skills to improve algorithem performance\n",
    "\n",
    "- challenges \n",
    "    - Simulate real fire is hard since turbulence is so unorganized and unpredictable\n",
    "    - Understanding DEVS-FIRE model is hard since the original code has few explanations\n",
    "    - It might depress me if the theories are too involved "
   ]
  }
 ],
 "metadata": {
  "anaconda-cloud": {},
  "kernelspec": {
   "display_name": "Python 3",
   "language": "python",
   "name": "python3"
  },
  "language_info": {
   "codemirror_mode": {
    "name": "ipython",
    "version": 3
   },
   "file_extension": ".py",
   "mimetype": "text/x-python",
   "name": "python",
   "nbconvert_exporter": "python",
   "pygments_lexer": "ipython3",
   "version": "3.7.6"
  }
 },
 "nbformat": 4,
 "nbformat_minor": 1
}
