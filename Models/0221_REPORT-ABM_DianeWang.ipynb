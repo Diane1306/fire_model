{
 "cells": [
  {
   "cell_type": "markdown",
   "metadata": {},
   "source": [
    "# <center>Using Agent Based Models in Simulating 2-D Wildland Fire Behavior </center>\n",
    "\n",
    "<center>by Diane Wang</center>"
   ]
  },
  {
   "cell_type": "markdown",
   "metadata": {},
   "source": [
    "---\n",
    "# ABM used in fire behavior simulation\n",
    "\n",
    "Raster-based and vecter-based approaches are implemented in simulating fire behaviors. Vecter-based model like the FARSITE  described in Finney 1998 used analytical methods to simulate fire growth. Raster-based model like DEVS-FIRE (Dahl et al. 2015) describes fire as CA (cellular automata) based spread behaviors. Cellular automata are mathematical models in which space and time are discontinuous, and the state variables can only take on values from a finite set (Li et al. 2000). CA is an agent-based modeling paradigm (Niazi et al. 2010). In a CA model, using a set of simple rules to model a large number of complex phenomena, each cell is an agent which spreads some information to its neighbors (Niazi et al. 2010). A cellular automaton divides space in the form of cells, which representing the actual conditions. The transition rules can be a deterministic or a probabilistic function of the neighborhood (Li et al. 2000). At the start of the simulation, each cell is assigned an initial state based on the particular CA model. Subsequently, with each cycle, the CA evolves (Niazi et al. 2010). \n",
    "\n",
    "CA has also been used for modeling fire spread (Green, 1989) which are often very simplistic, lacking detailed description of fire and its environment. This suggests a need for developing CA models that can accommodate more elaborate description of fire spread such as those suggested by Rothermel’s model (Rothermel 1972). A model for simulating bushfire spread using the cellular automaton approach that takes into account a number of important environmental factors such as bush density, land height, flammability, and wind condition was decribed by Li et al. 2000. With different initial conditions, the fire will either rapidly spread out of control, die prematurely, or survive for moderate periods of time before being overcome by unfavourable conditions (Li et al. 2000). Also, geographic information system can be integrated with CA techniques to develop more flexible and user-friendly end-user interface (Yassemi et al. 2007). \n",
    "\n",
    "It's interesting to introduce rabbit (the animal) as the agent to simulate fire behaviors. The purpose of the autonomous agent is to reduce the complexity of modelling fire while minimising commensurate loss of explanatory power. Therefore, the agent should not be too much like fire or else modelling complexity will not be reduced, nor should the agent be too little like fire or else there will be too little explanatory power. Furthermore, it is assumed that the mechanisms for fire spread can be represented by spotting. A rabbit is an appropriate proxy for fire spread by spotting because of a fundamental similarity in behaviours (Gary et al. 2013). For example, fire consumes fuel, fire ‘leaps’ from fuel element to fuelelementandfirespreads.Bycomparison,rabbitseat,rabbits jump and rabbits reproduce. The fire spread problem is reduced to finding (a) when a rabbit will jump, (b) how far the rabbit will jump and (c) how long a rabbit will live (Gary et al. 2013). \n",
    "\n"
   ]
  },
  {
   "cell_type": "markdown",
   "metadata": {},
   "source": [
    "---\n",
    "# Incorporating ABM into my research\n",
    "\n",
    "In my 2-D Wildland Fire Behavior simulation model, Cellular Automata, a paradigm of ABM, would be the most important part. I'm developing this model by the following steps:\n",
    "\n",
    "1. Represent the initial fire status of each cell as 0 or 1, and assign initial burning area to the field.\n",
    "\n",
    "2. Write functions to determine the state of each cell based on its neighbours and its past state.\n",
    "\n",
    "3. Assume homogeneous fuel field and add wind conditions to the above function. Fuel that is located downwind of the current location would have an increased likelihood of igniting. On the other hand, fuel that is located upwind of the current location would have a reduced chance of igniting.\n",
    "\n",
    "4. Add fuel conditions to represent Flammability with fuel and heat.\n",
    "\n",
    "5. Export heat fluxes from this model and coupled with the Advanced Regional Prediction System (ARPS).\n",
    "\n",
    "For the class project, most time would be spent on the third steps. And following would be done in the summer."
   ]
  },
  {
   "cell_type": "markdown",
   "metadata": {},
   "source": [
    "---\n",
    "# References\n",
    "\n",
    "- Finney, Mark A. “FARSITE: Fire Area Simulator-Model Development and Evaluation.” Ft. Collins, CO: U.S. Department of Agriculture, Forest Service, Rocky Mountain Research Station, 1998. https://doi.org/10.2737/RMRS-RP-4.\n",
    "- Dahl, Nathan, Haidong Xue, Xiaolin Hu, and Ming Xue. “Coupled Fire–Atmosphere Modeling of Wildland Fire Spread Using DEVS-FIRE and ARPS.” Natural Hazards 77, no. 2 (June 2015): 1013–35. https://doi.org/10.1007/s11069-015-1640-y.\n",
    "- Rothermel RC (1972) A mathematical model for predicting fire spread in wildland fuels. USDA Forest Service, Intermountain Forest and Range Experimental Station, Research Paper INT-115. (Odgen, UT)\n",
    "- Green, D.G. (1989), Simulated effects of fire, dispersal and spatial pattern on competition within vegetation mosaics, Vegetatio, 82: 139-153.\n",
    "- Achtemeier, Gary L. “Field Validation of a Free-Agent Cellular Automata Model of Fire Spread with Fire - Atmosphere Coupling.” International Journal of Wildland Fire 22, no. 2 (2013): 148. https://doi.org/10.1071/WF11055.\n",
    "- Li, Xiaodong, and William Magill. “Modeling Fire Spread under Environmental Influence Using a Cellular Automaton Approach.” Complexity International 08 (n.d.): 14.\n",
    "- Niazi, Muaz A., Qasim Siddique, Amir Hussain, and Mario Kolberg. “Verification & Validation of an Agent-Based Forest Fire Simulation Model.” In Proceedings of the 2010 Spring Simulation Multiconference on - SpringSim ’10, 1. Orlando, Florida: ACM Press, 2010. https://doi.org/10.1145/1878537.1878539.\n",
    "- Yassemi, S., S. Dragićević, and M. Schmidt. “Design and Implementation of an Integrated GIS-Based Cellular Automata Model to Characterize Forest Fire Behaviour.” Ecological Modelling 210, no. 1–2 (January 2008): 71–84. https://doi.org/10.1016/j.ecolmodel.2007.07.020.\n",
    " "
   ]
  }
 ],
 "metadata": {
  "anaconda-cloud": {},
  "kernelspec": {
   "display_name": "Python 3",
   "language": "python",
   "name": "python3"
  },
  "language_info": {
   "codemirror_mode": {
    "name": "ipython",
    "version": 3
   },
   "file_extension": ".py",
   "mimetype": "text/x-python",
   "name": "python",
   "nbconvert_exporter": "python",
   "pygments_lexer": "ipython3",
   "version": "3.7.6"
  }
 },
 "nbformat": 4,
 "nbformat_minor": 1
}
