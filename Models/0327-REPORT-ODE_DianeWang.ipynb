{
 "cells": [
  {
   "cell_type": "markdown",
   "metadata": {},
   "source": [
    "# <center>Using Ordinary Differential Equations (ODEs) in Simulating 2-D Wildland Fire Behavior</center>\n",
    "\n",
    "<center>by Diane Wang</center>"
   ]
  },
  {
   "cell_type": "markdown",
   "metadata": {},
   "source": [
    "---\n",
    "# ODEs used in fire behavior simulation\n",
    "\n",
    "Indoor ﬁre models are subdivided into two categories, zone models and ﬁeld models (Rehm et al. 2011). The formulation of both zone and ﬁeld models start from the basic conservation laws of mass, momentum, energy and species, together with radiative transport (Rehm et al. 2011). They take advantage of approximate mathematical submodels of the physical processes that occur in enclosure ﬁres to simplify the conservation laws (Rehm et al. 2011). As a result, they end up with nonlinear ordinary differential equations together with complex, nonlinear algebraic relations connecting dependent variables. These simpliﬁcations reduce both the data and the computational resources required to predict the progression of a ﬁre in a structure (Rehm et al. 2011). The model CFAST, Jones et al (2004), is a recent example from NIST of this class of models. The ordinary differential equations (ODEs) are often used to describe the ﬁre front propagation. Zone fire models usually consist of ordinary differential equations coupled with algebraic equations. These equations govern all of the dependent variables (room pressure, layer height, layer temperatures and densities, etc.) for a simple two-layer zone-fire model (Rehm et al. 1992).\n",
    "\n",
    "Rehm et al. also considered the Lagrangian approach to describe fire front propagation. The governing equations in their model are two ordinary differential equations (ODEs) describing the propagation of each Lagrangian element in the x,y-plane.\n",
    "\n",
    "$$\n",
    "\\frac{dx}{dt} = U_nn_x\n",
    "$$\n",
    "\n",
    "$$\n",
    "\\frac{dy}{dt} = U_nn_y\n",
    "$$\n",
    "\n",
    "where $x$, $y$ is the location of the Lagrangian element on the ﬁre front, $U_n$ is the normal component of the spread-rate vector of the ﬁre front at the location $(x,y)$, and $n_x$, $n_y$ are the components of the unit normal to the ﬁre front directed toward the unburnt fuel. The ﬁre front curve at any speciﬁed time t is described by the vector function $(x(s,t), y(s,t))$, where s is a parameter determining the distance along the curve (Rehm et al. 2008). \n",
    "\n",
    "However, the fire behavior is usually too complex. Therefore, Partial Differential Equations (PDEs) are more useful and practical in fire simulation. Computational fluid dynamics (CFD) models are very useful to predict fire behaviors by including fluid mechanics, heat transfer, combustion, and interaction with surroundings. These models usually need to solve partial differential equations. (I will not use the complicated CFD models and thus I will not dig into the details of the equations included in these models.) Mandel et al. combined a data assimilation method with a partial differential equation (PDE) based model for wildland ﬁre that achieves good physical behavior and can run faster than real time. The model is based on just two PDEs in two horizontal spatial dimensions: prognostic (predictive) equations for heat and fuel (Mandel et al. 2008). They use a single semi-empirical reaction rate to achieve the desired combustion model results. In other words, they solved the set of equations known as the reaction-convection-diffusion problem using reaction rates based on the Arrhenius equation, which relates the rate at which a chemical reaction proceeds to the temperature (Mandel et al. 2008).\n",
    "\n",
    "Masarie worked with both ordinary differential equation (ODE) and partial differential equation (PDE) systems models to solve inverse problems for an ODE system and a parabolic heat-type PDE. ODEs are used to model the complexity of \n",
    "interacting fire demand and risk using linear interactions among their levels and rates of change (Masarie et al. 2018). The ODE model is for a collection of fire suppression resources being shared amongst a collection of fire management zones (Masarie et al. 2018). "
   ]
  },
  {
   "cell_type": "markdown",
   "metadata": {},
   "source": [
    "---\n",
    "# References\n",
    "\n",
    "- Jones,WalterW.,RichardD.Peacock,GlennP.Forney,PaulA.Reneke(2004)CFAST Consolidated Model of Fire Growth and Smoke Transport (Version 6) Technical Reference Guide, NIST Special Publication 1030. http://ﬁre.nist.gov/bfrlpubs/.\n",
    "- Mandel, Jan, Lynn S. Bennethum, Jonathan D. Beezley, Janice L. Coen, Craig C. Douglas, Minjeong Kim, and Anthony Vodacek. “A Wildland Fire Model with Data Assimilation.” Mathematics and Computers in Simulation 79, no. 3 (December 2008): 584–606. https://doi.org/10.1016/j.matcom.2008.03.015.\n",
    "- Masarie, Alex Taylor. “DIFFERENTIAL EQUATION MODELS OF WILDFIRE SUPPRESSION ALLOCATION,” n.d., 133.\n",
    "- Rehm, Ronald G. “The Effects of Winds from Burning Structures on Ground-Fire Propagation at the Wildland–Urban Interface.” Combustion Theory and Modelling 12, no. 3 (May 20, 2008): 477–96. https://doi.org/10.1080/13647830701843288.\n",
    "- Rehm, Ronald G, and Glenn P Forney. “A Note on the Pressure Equations Used in Zone Fire Modeling.” Gaithersburg, MD: National Institute of Standards and Technology, 1992. https://doi.org/10.6028/NIST.IR.4906.\n",
    "- Rehm, Ronald G, and Randall J McDermott. “Mathematical Modeling of Wildland-Urban Interface Fires.” 0 ed. Gaithersburg, MD: National Institute of Standards and Technology, 2011. https://doi.org/10.6028/NIST.IR.7803.\n"
   ]
  }
 ],
 "metadata": {
  "anaconda-cloud": {},
  "kernelspec": {
   "display_name": "Python 3",
   "language": "python",
   "name": "python3"
  },
  "language_info": {
   "codemirror_mode": {
    "name": "ipython",
    "version": 3
   },
   "file_extension": ".py",
   "mimetype": "text/x-python",
   "name": "python",
   "nbconvert_exporter": "python",
   "pygments_lexer": "ipython3",
   "version": "3.7.6"
  }
 },
 "nbformat": 4,
 "nbformat_minor": 1
}
