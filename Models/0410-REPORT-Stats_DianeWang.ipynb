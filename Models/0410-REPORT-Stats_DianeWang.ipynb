{
 "cells": [
  {
   "cell_type": "markdown",
   "metadata": {},
   "source": [
    "# <center>Using Statistical Models in in Simulating 2-D Wildland Fire Behavior</center>\n",
    "\n",
    "<center>by Diane Wang</center>"
   ]
  },
  {
   "cell_type": "markdown",
   "metadata": {},
   "source": [
    "---\n",
    "# Statistical Models used in fire behavior simulation\n",
    "\n",
    "Statistical models could provide a useful resource that can help to understand the causes and consequences of fires and thus are used to identify and quantify the effects of the most significant fire-related factors and environmental factors (Samia et al, 2013). Statistical models are used in fire simulation by modelling the fire ignition and fire behavior.\n",
    "\n",
    " 1. **Ignition models** \n",
    "<p>The frequency of ignition is an important variable in the quantification of risk. The result from this kind of probabilistic modelling is very useful in engineering design (Samia et al, 2013).</p>\n",
    "\n",
    " 1.1 *Probability based models for estimation of wildfire risk*\n",
    "<p>Preisler H.K. et al, present model for estimating probabilities of wildfire on a given day and ona1km grid on Federal land. In their model, each square-kilometre grid for each day can have a different probability value. The model may be used to produce maps of predicted probabilities and to estimate the total number of expected fires, or large fires, in a given region and time period (Preisler et al, 2003).</p>\n",
    "\n",
    " 1.2 *Risk Assessment: a Forest Fire Example*\n",
    "<p>Brillinger D.R. et al, Developed a risk model for estimating the probability of a forest fire taking place at a particular location and time (Brillinger et al, 2003). The work is implemented for the case of a fine grid of cells and an accompanying large data set (Brillinger et al, 2003). </p>\n",
    "\n",
    " 1.3 *Statistical Analysis of Extreme Forest fires*\n",
    "<p>A model developed by Ramesh N.I b was used to model data on acres of wildland burnt by extreme fire in the US since 1825, and adapted the point process modelling approach to model the extreme wildfires (Ramesh et al, 2001). A semi-parametric smoothing approach is adapted with maximum likelihood method to estimate model parameters (Ramesh et al, 2001). Local likelihood method is used to get smooth parameter estimates of extermal models incorporating trend in time (Ramesh et al, 2001). </p>\n",
    "\n",
    " 1.4 *Statistical Model for Forecasting Monthly Large Wildfire Events in Western United States* \n",
    "<p>Preisler H.K et al developed a statistical model for assessing and mapping the forecasting skills of firedanger predictors and producing 1-month-ahead wildfire-danger probabilities in the western United States (Preisler et al, 2007). The method is based on logistic regression techniques with spline functions to accommodate nonlinear relationships between fire-danger predictors and probability of large fire events (Preisler et al, 2007).</p>\n",
    "\n",
    "\n",
    " 2. **Statistical models of fire spread and behavior** \n",
    "<p>The goal of statistical and empirical models is mainly restricted to the prediction of the rate of spread (Samia et al, 2013). Fire spread and behaviour models may be divided into two broad classes (Perry et al, 1998): Those concerned with the quantification of fire behaviour through the prediction of parameters such as rate of spread and fire line intensity; Those concerned with the prediction of the final shape (or spatial extent) of a fire event. </p>\n",
    "\n",
    " 2.1 *The McArthur's model for grassland fires and forest fire*\n",
    "<p>The McArthur's model for grassland fires and forest fire is purely statistical description of test fires of such fire spread (Bodrožić et al, 2005)</p>\n",
    "\n",
    " 2.2 *The Rothermel wildland fire spread model*\n",
    "<p>Rothermel created the most widespread and practical mathematical model to date. The Rothermel wildland fire spread model (Rothermel, 1972) is sometimes referred as a semi-empirical model to emphasise its hybrid physical and empirical nature. </p>\n",
    "\n"
   ]
  },
  {
   "cell_type": "markdown",
   "metadata": {},
   "source": [
    "---\n",
    "# References\n",
    "\n",
    "- Preisler H.K., Brillinger D.R.,Burgan R.E., Benoit J.W., CSIRO PUBLISHING, “Probability based models for estimation of wildfire risk”, International Journal of Wildland Fire, 13, 2004, 133–142.  \n",
    "- Preisler, Haiganoush K., and Anthony L. Westerling. “Statistical Model for Forecasting Monthly Large Wildfire Events in Western United States.” Journal of Applied Meteorology and Climatology 46, no. 7 (July 2007): 1020–30. https://doi.org/10.1175/JAM2513.1.\n",
    "- Brillinger D. R., Preisler H. K., Benoit J. W, “Risk assessment: a forest fire example”. Lecture Notes-Monograph Series, 2003, 177-196. \n",
    "- Ramesh N. I, “Statistical analysis of extreme forest fires”, Proceedings of the IUFRO 4.11 conference on Forest Biometry, Modelling and Information Science, University of Greenwich, 2001. \n",
    "- Chettouh Samia, Hamzi Rachida. \"Statistical Fire Models : Review \". International Journal of Engineering Research & Technology (IJERT), Vol. 2 Issue 12, 2013, 2278-0181\n",
    "- Perry G.L.W, “Current approaches to modelling the spread of wildland fire: a review”. Progress in Physical Geography,  1998, 22- 222 \n",
    "- Bodrožić L., Marasović J., Stipaničev D, “Fire modeling in forest fire management”. CEEPUS Spring School, Kielce, Poland, 2005. \n",
    "- Rothermel RC (1972) A mathematical model for predicting fire spread in wildland fuels. USDA Forest Service, Intermountain Forest and Range Experimental Station, Research Paper INT-115. (Odgen, UT)"
   ]
  }
 ],
 "metadata": {
  "anaconda-cloud": {},
  "kernelspec": {
   "display_name": "Python 3",
   "language": "python",
   "name": "python3"
  },
  "language_info": {
   "codemirror_mode": {
    "name": "ipython",
    "version": 3
   },
   "file_extension": ".py",
   "mimetype": "text/x-python",
   "name": "python",
   "nbconvert_exporter": "python",
   "pygments_lexer": "ipython3",
   "version": "3.7.6"
  }
 },
 "nbformat": 4,
 "nbformat_minor": 1
}
