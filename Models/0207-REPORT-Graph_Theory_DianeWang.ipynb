{
 "cells": [
  {
   "cell_type": "markdown",
   "metadata": {},
   "source": [
    "# <center>Using Graph Theory in Simulating 2-D Wildland Fire Behavior </center>\n",
    "\n",
    "<center>by Diane Wang</center>"
   ]
  },
  {
   "cell_type": "markdown",
   "metadata": {},
   "source": [
    "---\n",
    "# Graph Theory used in fire behavior simulation\n",
    "\n",
    "Graph theory is used in fire simulation mainly by representing fire behavior in networks. Fire-growth modeling on complex landscapes can be approached as a search for the minimum time for fire to travel among nodes in a two-dimensional network. The paths producing minimum travel time between nodes are then interpolated to reveal the fire perimeter positions at an instant in time. These fire perimeters and their fire behavior characteristics (e.g., spread rate, fireline intensity) are essentially identical to the products of perimeter expansion techniques. Travel time methods offer potential advantages for some kinds of modeling applications, because they are more readily parallelized for computation than methods for expanding fire fronts and require no correction for crossed fronts or merging separate fires (Finney, 2002). Also, a method for modeling fire propagation using a discrete Delaunay (also known as a triangulated irregular) network that is refined by a two-pass shortest path algorithm. The suggested methodology is tailored for the fast evaluation of minimum wildfire travel time from ignition sources (points) to specific points of interest or destination points, such as human settlements and infrastructure (Stepanov, 2011). This Delaunay graph-based approach, which is computationally effective with Geographic Information System (GIS). Beyond that, a computational two-level framework, where fire is being modeled to spread through a weighted directed network whose edge weights are the state transition probabilities of a spatio-temporal Markov Cellular Automata (CA) process. The particular CA model incorporates detailed GIS, landscape and meteorological data and has been proved to be robust and efficient in predicting the fire spreading behaviour in several real-world cases. Thus, the problem of the spatial distribution of fire breaks is reduced to the problem of finding the group of nodes through which the fire spreads most rapidly. This problem is closely and straightforwardly related to the analysis of information flow on networks (Russo, 2016).\n",
    "\n",
    "Besides, graph burning studies how fast a contagion, modeled as a set of fires, spreads in a graph. The burning process takes\n",
    "place in synchronous, discrete rounds. In each round, a fire breaks out at a vertex, and the fire spreads to all vertices that are adjacent to a burning vertex. The selection of vertices where fires start defines a schedule that indicates the number of rounds required to burn all vertices. Given a graph, the objective of an algorithm is to find a schedule that minimizes the number of rounds to burn graph. The burning number measures how prone a network is to fast social contagion. In the burning protocol, like many other network protocols, data is communicated between nodes in discrete rounds. The input is an undirected, unweighted, finite simple graph. We say a node is burning if it has received data. Initially, no vertex is burning. In each round, a burning vertex sends data to all its neighbors, and all neighbors will be on fire at the end of the round; this is consistent with the fact that a user in the network can expose all its neighbours to a posted piece of data. In addition, in each given round, a new fire starts at a non-burning vertex called an activator ; this can be interpreted as a way to target additional users that initiate the contagion. Note that the burning protocol does not provide a specified algorithm of how the fire spreads. However, the algorithm can choose where to initiate the fire. The decisions of the algorithm for the location of activators define a schedule that can be described by a burning sequence: the ith member of the burning sequence indicates the vertex at which a fire is started in round i. We say the graph is burned when all vertices are on fire; that is, all members of the network have received the data. For example, burning a graph in three rounds using a schedule defined by burning sequence <A, B, C>. The number on each vertex indicates the rounds at which the vertex becomes a burning vertex. At round 1, a fire starts at A. At round 2, another fire starts at B while the fire at A spreads to all neighbors of A. At round 3, the fire spreads to all vertices except for C, where a new fire is started (Bonato, 2019).\n",
    "<img src=\"https://media.springernature.com/lw785/springer-static/image/chp%3A10.1007%2F978-3-030-14812-6_6/MediaObjects/471809_1_En_6_Fig1_HTML.png\" width=\"60%\">\n",
    "\n",
    "Some other fire related research also used graph theory to optimize firefighting in oil terminals (Khakzad, 2018) and unraveling the complexity of wildland urban interface fires (Mahmoud, 2018). "
   ]
  },
  {
   "cell_type": "markdown",
   "metadata": {},
   "source": [
    "---\n",
    "# References\n",
    "\n",
    "- Russo, Lucia, Paola Russo, and Constantinos I. Siettos. “A Complex Network Theory Approach for the Spatial Distribution of Fire Breaks in Heterogeneous Forest Landscapes for the Control of Wildland Fires.” Edited by Marc Hanewinkel. PLOS ONE 11, no. 10 (October 25, 2016): e0163226. https://doi.org/10.1371/journal.pone.0163226.\n",
    "- Khakzad, Nima. “A Graph Theoretic Approach to Optimal Firefighting in Oil Terminals.” Energies 11, no. 11 (November 9, 2018): 3101. https://doi.org/10.3390/en11113101.\n",
    "- Bonato, Anthony, and Shahin Kamali. “Approximation Algorithms for Graph Burning.” ArXiv:1811.04449 [Cs, Math], April 4, 2019. http://arxiv.org/abs/1811.04449.\n",
    "- Finney, Mark A. “Fire Growth Using Minimum Travel Time Methods.” Canadian Journal of Forest Research 32, no. 8 (August 1, 2002): 1420–24. https://doi.org/10.1139/x02-068.\n",
    "- Stepanov, Alexander, and James MacGregor Smith. “Modeling Wildfire Propagation with Delaunay Triangulation and Shortest Path Algorithms.” European Journal of Operational Research 218, no. 3 (May 2012): 775–88. https://doi.org/10.1016/j.ejor.2011.11.031.\n",
    "- Mahmoud, Hussam, and Akshat Chulahwat. “Unraveling the Complexity of Wildland Urban Interface Fires.” Scientific Reports 8, no. 1 (December 2018): 9315. https://doi.org/10.1038/s41598-018-27215-5.\n"
   ]
  }
 ],
 "metadata": {
  "anaconda-cloud": {},
  "kernelspec": {
   "display_name": "Python 3",
   "language": "python",
   "name": "python3"
  },
  "language_info": {
   "codemirror_mode": {
    "name": "ipython",
    "version": 3
   },
   "file_extension": ".py",
   "mimetype": "text/x-python",
   "name": "python",
   "nbconvert_exporter": "python",
   "pygments_lexer": "ipython3",
   "version": "3.6.9"
  }
 },
 "nbformat": 4,
 "nbformat_minor": 1
}
