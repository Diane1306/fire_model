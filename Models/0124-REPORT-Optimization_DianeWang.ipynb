{
 "cells": [
  {
   "cell_type": "markdown",
   "metadata": {},
   "source": [
    "# <center>Using Optimization in Simulating 2-D Wildland Fire Behavior </center>\n",
    "\n",
    "<center>by Diane Wang</center>"
   ]
  },
  {
   "cell_type": "markdown",
   "metadata": {},
   "source": [
    "---\n",
    "# Optimization methods used in fire behavior simulation\n",
    "\n",
    "Fire behavior refers to the gross characteristics of fire, including fireline intensity (power per unit length of the flaming front), spread rate, spotting distance, fuel consumption, and whether the fire is a surface or crown fire. Optimization methods are mainly used in simulating fuel condition and fire spread rate when modelling fire behaviors.\n",
    "\n",
    "To simulate fire behaviors, fuel conditions is a critical part to consider. Fuel treatment effects on the growth and behavior  of fires depend on the spatial arrangements of individual treatment units. Generally, the theoretical models show that random patterns are inefficient in changing fire spread rates compared to strategic designs. For complex landscapes, computational methods are being developed to identify optimal placement of fuel treatment units that simulate fire spread similarly to the strategic patterns (Mark A. Finney). There are no analytical solutions to the optimization of fuel treatment locations on real landscapes since they are indeed complicated in terms of fuels, topography, and weather (Mark A. Finney). An optimization algorithm is under development for helping choose the placement of fuel treatments on real landscapes (Finney 2002b). One process now being considered consists of two steps: (1) use fire growth algorithms to identify the fastest travel routes across a landscape, and (2) use heuristic algorithms to optimize the locations and sizes of fuel treatments to block these routes. The fastest travel routes produced by fire growth algorithms suggest initial places for optimal placement of fuel treatments for delaying fire growth (Mark A. Finney). These optimizations combined with landscape simulation could capture potential effects of spatial fuel treatment programs on fire behaviors.\n",
    "\n",
    "In previous studies, mathematical optimization of fuel models was obtained by perturbing their parameters by discrete increments within a predefined range and choosing the values that maximise the fit between predicted and observed fire behaviour (Hough and Albini 1978; Cruz and Fernandes 2008), which might result in high computational load and incomplete exploration of searching range (Davide Ascoli 2015). Genetic algorithms (GA) (Holland 1975) are a method for solving optimization problems that has been successfully used to calibrate multidimensional and nonlinear models in several fields of ecology and natural resource management (Stockwell and Noble 1990; Wang 1991). They use stochastic search rules and explore a continuous search space, making them suitable to calibrate fuel model parameters in a computationally effective way (Davide Ascoli 2015). GA randomly generates solutions of fuel model parameters to form an initial population. Solutions are validated against observations of fire rate of spread via a goodness-of-fit metric. The population is selected for its best members, crossed over and mutated within a range of model parameter values, until a satisfactory fitness is reached (Davide Ascoli 2015).\n",
    "\n",
    "In addition to fuel, the spread rate of fire also matters a great deal. The DEVS (Discrete Event System Specification) FIRE model (Dahl 2015) is a CA (cellular automata) based model to simulate ﬁre spread and suppression, resulting in large amounts of data processing and operations. Based on Rothermel's model (1972), consisting of fuel parameters like fuel load, surface area-to-volume ratio for different fuel categories and size classes, fuelbed depth, dead fuel moisture of extinction and heat content of dead and live fuels, high computer capabilities are required to achieve more accurate and complex mathematical simulations. A model developed with a physical dimension based on a reaction-diffusion equation, including a nonlinear combustion energy term, does not admit analytical solution. Instead, a finite difference numerical scheme with a moving boundary to obtain a shorter calculation time was developed to solve this problem (J.H. Balbi 1999). This method divided the domain into a rectangular grid. Each cell in the model implements discrete values that change according to a local function with the present value of the it and a finite set of neighbors (A. Muzy 2003). Such a model with just a moderate resolution would result in time-consuming calculations. The DEVS formalism involves more methodology and complexity. It produced a high simulation time cost and was quite complex to achieve discrete time simulation (A. Muzy 2003). The timed Cell-DEVS formalism combines the DEVS and CA formalisms with timing delays (Gabriel A. Wainer 2001). Based on DEVS model, the Multicomponent Discrete Time System Specification (MultiDTSS) permits the elimination of messages exchange between cells and hierarchy levels for discrete time systems (B.P. Zeigler 2000). These components influence each other directly through their state transition functions, which are executed at each time step. Hence, message interaction is eliminated and reduced to system synchronization improving simulation performances (A. Muzy 2003). In addition, the Active Multicomponent Discrete Time System Specification (AMultiDTSS) was developed to reduce the domain to the active cells which avoids unnecessary calculations. In these formalisms, optimized parameters are obtained to fit between predicted and observed fire behaviours.\n"
   ]
  },
  {
   "cell_type": "markdown",
   "metadata": {},
   "source": [
    "---\n",
    "# Incorporating Optimization methods into my research\n",
    "\n",
    "For the project in this class, I will not dig deep into the fuel part. Most of my work would be focused on wind-driven fire behaviors. And the fire spread rate simulation section in DEVS-FIRE model is there just for a reference. In this way, only the optimization methods in the fire spread rate calculation part might be useful to my project. When I calculate the parameters in the model, I might need to optimize them to fit the observed fire data and then deduce a semi-empirical parameterization method. And I'll work on the rest of the work during the summer."
   ]
  },
  {
   "cell_type": "markdown",
   "metadata": {},
   "source": [
    "---\n",
    "# References\n",
    "\n",
    "- Ascoli, Davide, Giorgio Vacchiano, Renzo Motta, and Giovanni Bovio. “Building Rothermel Fire Behaviour Fuel Models by Genetic Algorithm Optimisation.” International Journal of Wildland Fire 24, no. 3 (2015): 317. https://doi.org/10.1071/WF14097.\n",
    "\n",
    "- Finney, Mark A. “Chapter 9: Landscape Fire Simulation and Fuel Treatment Optimization,” n.d., 15.\n",
    "\n",
    "- Finney, M.A. 2002b. Use of graph theory and genetic algorithms for finding optimal fuel treatment locations. In: Viegas, D.X., ed. Proceedings of the 4th international conference on fire research [CD ROM]. Rotterdam, The Netherlands: Millpress Science Publishers. \n",
    "\n",
    "- Dahl, Nathan, Haidong Xue, Xiaolin Hu, and Ming Xue. “Coupled Fire–Atmosphere Modeling of Wildland Fire Spread Using DEVS-FIRE and ARPS.” Natural Hazards 77, no. 2 (June 2015): 1013–35. https://doi.org/10.1007/s11069-015-1640-y.\n",
    "\n",
    "- Balbi, J.H., P.A. Santoni, and J.L. Dupuy. “Dynamic Modelling of Fire Spread across a Fuel Bed.” International Journal of Wildland Fire 9, no. 4 (1999): 275. https://doi.org/10.1071/WF00005.\n",
    "\n",
    "- Muzy, A., E. Innocenti, J.-F. Santucci, and D.R.C. Hill. “Optimization of Cell Spaces Simulation for the Modeling of Fire Spreading.” In 36th Annual Simulation Symposium, 2003., 289–96. Orlando, FL, USA: IEEE Comput. Soc, 2003. https://doi.org/10.1109/SIMSYM.2003.1192825.\n",
    "\n",
    "- Holland J (1975) ‘Adaptation in Artificial and Natural Systems.’ (The University of Michigan Press: Ann Arbor) \n",
    "\n",
    "- Stockwell DRB, Noble IR (1990) Induction of sets of rules from animal distribution data: a robust and informative method of data analysis. Mathematics and Computers in Simulation 32, 249–254. doi:10.1016/ 0378-4754(90)90247-G \n",
    "\n",
    "- Wang QJ (1991) The genetic algorithm and its application to calibrating conceptual rainfall-runoff models. Water Resources Research 27, 2467–2471. doi:10.1029/91WR01305\n",
    "\n",
    "- Rothermel RC (1972) A mathematical model for predicting fire spread in wildland fuels. USDA Forest Service, Intermountain Forest and Range Experimental Station, Research Paper INT-115. (Odgen, UT)\n",
    "\n",
    "- J.H.  Balbi and P.A. Santoni “Dynamic modelling of fire spread across a fuel bed”, Int. J. Wildland Fire, 1998, pp. 275284. \n",
    "\n",
    "-  G. Wainer and N. Giambiasi “Application of the Cell-DEVS paradigm for cell spaces modelling and simulation”, Simulation, 76 (1), 2001, pp. 22 - 39. \n",
    "\n",
    "- B.P. Zeigler, H. Praehofer and T.G. Kim “Theory of modelling and simulation”, 2nd Edition, Academic Press, 2000.  "
   ]
  }
 ],
 "metadata": {
  "anaconda-cloud": {},
  "kernelspec": {
   "display_name": "Python 3",
   "language": "python",
   "name": "python3"
  },
  "language_info": {
   "codemirror_mode": {
    "name": "ipython",
    "version": 3
   },
   "file_extension": ".py",
   "mimetype": "text/x-python",
   "name": "python",
   "nbconvert_exporter": "python",
   "pygments_lexer": "ipython3",
   "version": "3.7.6"
  }
 },
 "nbformat": 4,
 "nbformat_minor": 1
}
