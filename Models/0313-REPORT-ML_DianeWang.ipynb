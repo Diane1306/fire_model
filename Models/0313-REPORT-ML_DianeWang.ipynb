{
 "cells": [
  {
   "cell_type": "markdown",
   "metadata": {},
   "source": [
    "# <center>Using Machine Learning (ML) in Simulating 2-D Wildland Fire Behavior</center>\n",
    "\n",
    "<center>by Diane Wang</center>"
   ]
  },
  {
   "cell_type": "markdown",
   "metadata": {},
   "source": [
    "---\n",
    "# Machine Learning used in fire behavior simulation\n",
    "\n",
    "Computational fluid dynamics (CFD) models are very useful to predict fire behaviors by including fluid mechanics, heat transfer, combustion, and interaction with surroundings. However, these models are especially complex and computationally expensive. Currently a hybrid modeling approach is applied to predict full field conditions in large domains of fire simulation (Lattimer et al. 2019). In this approach, a network model is used to predict the fire conditions over the entire domain and a CFD model is subsequently used to predict a small sub-region of the domain where large spatial variations are expected or are of interest (Lattimer et al. 2019). But this methodology is slow due to the high computational expense of CFD. An alternative approach is to use machine learning to provide rapid predictions of high fidelity results based on an input (Lattimer et al. 2019). Dimensionality reduction using principal component analysis, also known as reduced-order modeling (ROM), has been explored for predicting detailed fire dynamics with less computational expense. In this approach, a new set of mathematical equations is developed to project full-order equations into a reduced-order space. This approach is unsupervised machine learning since the data does not need to be labeled (Lattimer et al. 2019). Reduced-order models were able to provide prediction times that were 2-3 orders of magnitude less than CFD model (Lattimer et al. 2019). Also, data-driven artificial neural network (ANN) approaches have been applied to predict physics applications including wildland fire spread. Deep learning based on convolutional neural networks have been demonstrated to be highly capable of predicting spatial conditions of fire spread (Lattimer et al. 2019). \n",
    "\n",
    "FireCast, a novel solution that combines AI and Geographic Information Systems (GIS) to predict future wildﬁre spread, given a small number of location characteristics and a weather forecast was developed by Radke et al. AI techniques have the ability to make classiﬁcations or predictions about a given target based on a set of input features, and GIS has the ability to generate the appropriate geospatial input variables for such an AI model (Radke et al. 2019).  FireCast uses supervised learning and geospatial inputs, such as satellite imagery, elevation data, weather data, and historical ﬁre perimeters to identify patterns associated with ﬁre spread in certain environments to produce predictions of wildﬁre spread (Radke et al. 2019).\n",
    "\n",
    "Recent work has applied techniques from AI to predict spatial spreading of wildﬁres in a model called MCTS-A3C (Subramanian and Crowley, 2018). MCTS-A3C uses a deep reinforcement learning approach to automatically learn wildfire spread dynamics models by treating fire as an agent on the landscape taking spatial actions in reaction to its environment. Similar to the approach of other models (Finney,1998; Kourtz and O’Regan, 1971), the agent starts in one location and spreads outward along a satellite image. This algorithm defines a global network in addition to multiple worker agents with individual sets of parameters. The input to this global network was formalized as a grid of 100 × 100 cells with each cell having state values, which is an average of the state values of several pixels derived from satellite images (Subramanian and Crowley, 2018).\n",
    "\n",
    "Besides, machine learning was also used in predicting potential fire control locations for pre-fire planning and operational fire management (O’Connor et al. 2017). It's indeed worthwhile to generate a decision space for active fire management and pre-fire planning that highlights potential fire control locations that can be mapped onto landscape management objectives to facilitate greater integration between land management and fire operations. This approach incorporated a spatial database of historical fire perimeter locations to model interactions between topographic features (slope position and soil characteristics), fuel types, road networks and hydrologic features that resulted in cessation of fire progression (O’Connor et al. 2017).\n",
    "\n",
    "\n",
    "Based on my project's primary goal to simulate the 2-D wind driven fire, there's no need to go deep into machine learning methods yet. But I might look at these methods to get some novel ideas later."
   ]
  },
  {
   "cell_type": "markdown",
   "metadata": {},
   "source": [
    "---\n",
    "# References\n",
    "\n",
    "- Subramanian, S.G. & Crowley, M., 2018. Combining MCTS and A3C for Prediction of Spatially Spreading Processes in Forest Wildfire Settings. In Canadian Conference on Artificial Intelligence. Toronto, Ontario, Canada: Springer, pp. 285-291. Available at: https://link.springer.com/chapter/10.1007/978-3-319-89656-4_28.\n",
    "- Connor, Christopher D. O’, David E. Calkin, and Matthew P. Thompson. “An Empirical Machine Learning Method for Predicting Potential Fire Control Locations for Pre-Fire Planning and Operational Fire Management.” International Journal of Wildland Fire 26, no. 7 (2017): 587. https://doi.org/10.1071/WF16135.\n",
    "- Finney, Mark A. “FARSITE: Fire Area Simulator-Model Development and Evaluation.” Ft. Collins, CO: U.S. Department of Agriculture, Forest Service, Rocky Mountain Research Station, 1998. https://doi.org/10.2737/RMRS-RP-4.\n",
    "- Ganapathi Subramanian, Sriram, and Mark Crowley. “Using Spatial Reinforcement Learning to Build Forest Wildfire Dynamics Models From Satellite Images.” Frontiers in ICT 5 (April 19, 2018): 6. https://doi.org/10.3389/fict.2018.00006.\n",
    "- Hughes, Jensen. “Using Machine Learning in Physics-Based Simulation of Fire,” March 2019, 12.\n",
    "- Kourtz, P. H., and W. G. O’Regan. “A Model a Small Forest Fire ... to Simulate Burned and Burning Areas for Use in a Detection Model.” Forest Science 17, no. 2 (June 1, 1971): 163–69. https://doi.org/10.1093/forestscience/17.2.163.\n",
    "- Radke, David, Anna Hessler, and Dan Ellsworth. “FireCast: Leveraging Deep Learning to Predict Wildfire Spread.” In Proceedings of the Twenty-Eighth International Joint Conference on Artificial Intelligence, 4575–81. Macao, China: International Joint Conferences on Artificial Intelligence Organization, 2019. https://doi.org/10.24963/ijcai.2019/636.\n"
   ]
  }
 ],
 "metadata": {
  "anaconda-cloud": {},
  "kernelspec": {
   "display_name": "Python 3",
   "language": "python",
   "name": "python3"
  },
  "language_info": {
   "codemirror_mode": {
    "name": "ipython",
    "version": 3
   },
   "file_extension": ".py",
   "mimetype": "text/x-python",
   "name": "python",
   "nbconvert_exporter": "python",
   "pygments_lexer": "ipython3",
   "version": "3.7.6"
  }
 },
 "nbformat": 4,
 "nbformat_minor": 1
}
